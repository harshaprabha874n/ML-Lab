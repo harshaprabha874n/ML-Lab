{
 "cells": [
  {
   "cell_type": "code",
   "execution_count": null,
   "id": "f826baef-b073-4638-9c9c-1ff212625c80",
   "metadata": {},
   "outputs": [],
   "source": [
    "import matplotlib.pyplot as plt \n",
    "from sklearn import datasets \n",
    "from sklearn.cluster import KMeans \n",
    "import pandas as pd\n",
    "import numpy as np\n",
    "\n",
    "# import some data to play with \n",
    "iris = datasets.load_iris()\n",
    "X = pd.DataFrame(iris.data)\n",
    "X.columns = ['Sepal_Length','Sepal_Width','Petal_Length','Petal_Width'] \n",
    "y = pd.DataFrame(iris.target)\n",
    "y.columns = ['Targets']\n",
    "\n",
    "# Build the K Means Model\n",
    "model = KMeans(n_clusters=3)\n",
    "model.fit(X) # model.labels_ : Gives cluster no for which samples belongs to\n",
    "\n",
    "# # Visualise the clustering results\n",
    "plt.figure(figsize=(14,7))\n",
    "colormap = np.array(['red', 'lime', 'black'])\n",
    "\n",
    "# Plot the Original Classifications using Petal features\n",
    "plt.subplot(1, 3, 1)\n",
    "plt.scatter(X.Petal_Length, X.Petal_Width, c=colormap[y.Targets], s=40) \n",
    "plt.title('Real Clusters')\n",
    "plt.xlabel('Petal Length') \n",
    "plt.ylabel('Petal Width')\n",
    "\n",
    "# Plot the Models Classifications\n",
    "plt.subplot(1, 3, 2)\n",
    "plt.scatter(X.Petal_Length, X.Petal_Width, c=colormap[model.labels_], s=40) \n",
    "plt.title('K-Means Clustering')\n",
    "plt.xlabel('Petal Length') \n",
    "plt.ylabel('Petal Width')"
   ]
  },
  {
   "cell_type": "code",
   "execution_count": null,
   "id": "5d4b1c94-d002-4ed9-9914-56dda10d5648",
   "metadata": {},
   "outputs": [],
   "source": []
  }
 ],
 "metadata": {
  "kernelspec": {
   "display_name": "Python 3 (ipykernel)",
   "language": "python",
   "name": "python3"
  },
  "language_info": {
   "codemirror_mode": {
    "name": "ipython",
    "version": 3
   },
   "file_extension": ".py",
   "mimetype": "text/x-python",
   "name": "python",
   "nbconvert_exporter": "python",
   "pygments_lexer": "ipython3",
   "version": "3.12.4"
  }
 },
 "nbformat": 4,
 "nbformat_minor": 5
}
