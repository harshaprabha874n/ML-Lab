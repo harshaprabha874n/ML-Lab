{
 "cells": [
  {
   "cell_type": "code",
   "execution_count": 7,
   "id": "826e1ad7-e7f2-4e22-90bd-076a02df2f94",
   "metadata": {},
   "outputs": [
    {
     "name": "stdout",
     "output_type": "stream",
     "text": [
      "Total number of training instances are:  5 \n",
      " [['Round', 'Triangle', 'Round', 'Purple', 'Yes', 'Yes', 'yes'], ['Square', 'Square', 'Square', 'Green', 'Yes', 'Yes', 'yes'], ['Square', 'Triangle', 'Round', 'Yellow', 'Yes', 'Yes', 'yes'], ['Round', 'Triangle', 'Round', 'Green', 'No', 'No', 'no'], ['Square', 'Square', 'Round', 'Yellow', 'Yes', 'Yes', 'yes']]\n",
      "\n",
      " The hypothesis for the training instance0 is :\n",
      " ['0', '0', '0', '0', '0', '0']\n",
      "\n",
      " The hypothesis for the training instance1 is :\n",
      " ['Round', 'Triangle', 'Round', 'Purple', 'Yes', 'Yes']\n",
      "\n",
      " The hypothesis for the training instance2 is :\n",
      " ['?', '?', '?', '?', 'Yes', 'Yes']\n",
      "\n",
      " The hypothesis for the training instance3 is :\n",
      " ['?', '?', '?', '?', 'Yes', 'Yes']\n",
      "\n",
      " The hypothesis for the training instance4 is :\n",
      " ['?', '?', '?', '?', 'Yes', 'Yes']\n",
      "\n",
      " The hypothesis for the training instance5 is :\n",
      " ['?', '?', '?', '?', 'Yes', 'Yes']\n",
      "\n",
      " The Maximally specific hypothesis for the training instances is  ['?', '?', '?', '?', 'Yes', 'Yes']\n"
     ]
    }
   ],
   "source": [
    "import csv\n",
    "with open('data.csv','r')as file:\n",
    "    data=[row for row in csv.reader(file)]\n",
    "    print(\"Total number of training instances are: \",len(data)-1,'\\n',data[1:])\n",
    "num_attribute=len(data[0])-1\n",
    "hypothesis=['0']*num_attribute\n",
    "for i in range(0,len(data)):\n",
    "    if data[i][num_attribute]=='yes':\n",
    "        for j in range(0,num_attribute):\n",
    "            if hypothesis[j]=='0'or hypothesis[j]==data[i][j]:\n",
    "                hypothesis[j]=data[i][j]\n",
    "            else:\n",
    "                hypothesis[j]='?'\n",
    "    print(\"\\n The hypothesis for the training instance{} is :\\n\".format(i),hypothesis)\n",
    "print(\"\\n The Maximally specific hypothesis for the training instances is \",hypothesis)\n",
    "\n"
   ]
  },
  {
   "cell_type": "code",
   "execution_count": null,
   "id": "9aaffb2c-9e93-459e-881f-b5f081e059e7",
   "metadata": {},
   "outputs": [],
   "source": []
  },
  {
   "cell_type": "code",
   "execution_count": null,
   "id": "a52d7d03-1042-4a66-8e2b-81d01cd4aaac",
   "metadata": {},
   "outputs": [],
   "source": []
  },
  {
   "cell_type": "code",
   "execution_count": null,
   "id": "41ea538d-1301-48ee-9469-1d094c44522a",
   "metadata": {},
   "outputs": [],
   "source": []
  }
 ],
 "metadata": {
  "kernelspec": {
   "display_name": "Python 3 (ipykernel)",
   "language": "python",
   "name": "python3"
  },
  "language_info": {
   "codemirror_mode": {
    "name": "ipython",
    "version": 3
   },
   "file_extension": ".py",
   "mimetype": "text/x-python",
   "name": "python",
   "nbconvert_exporter": "python",
   "pygments_lexer": "ipython3",
   "version": "3.11.7"
  }
 },
 "nbformat": 4,
 "nbformat_minor": 5
}
