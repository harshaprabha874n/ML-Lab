{
 "cells": [
  {
   "cell_type": "code",
   "execution_count": 1,
   "id": "3286432a-ce9d-4c63-a296-5b0a6e6eaed6",
   "metadata": {},
   "outputs": [],
   "source": [
    "import numpy as np\n",
    "import math\n",
    "import csv"
   ]
  },
  {
   "cell_type": "code",
   "execution_count": 2,
   "id": "ea62199d-d14a-4da4-8a6a-2b5bcfdde7ef",
   "metadata": {},
   "outputs": [],
   "source": [
    "def read_data(filename):\n",
    "    with open(filename, 'r') as csvfile:\n",
    "        datareader = csv.reader(csvfile, delimiter=',')\n",
    "        headers = next(datareader)\n",
    "        metadata = []\n",
    "        traindata = []\n",
    "        for name in headers:\n",
    "            metadata.append(name)\n",
    "        for row in datareader:\n",
    "            traindata.append(row)\n",
    "\n",
    "    return (metadata, traindata)"
   ]
  },
  {
   "cell_type": "code",
   "execution_count": 3,
   "id": "2d747155-0991-43d0-94dc-6d0bd617c544",
   "metadata": {},
   "outputs": [],
   "source": [
    "class Node:\n",
    "    def __init__(self, attribute):\n",
    "        self.attribute = attribute\n",
    "        self.children = []\n",
    "        self.answer = \"\"\n",
    "        \n",
    "    def __str__(self):\n",
    "        return self.attribute"
   ]
  },
  {
   "cell_type": "code",
   "execution_count": 4,
   "id": "b1139490-f3fb-4e9e-b1ec-845d2af0bf42",
   "metadata": {},
   "outputs": [],
   "source": [
    "def subtables(data, col, delete):\n",
    "    dict = {}\n",
    "    items = np.unique(data[:, col])\n",
    "    count = np.zeros((items.shape[0], 1), dtype=np.int32)    \n",
    "    \n",
    "    for x in range(items.shape[0]):\n",
    "        for y in range(data.shape[0]):\n",
    "            if data[y, col] == items[x]:\n",
    "                count[x] += 1\n",
    "                \n",
    "    for x in range(items.shape[0]):\n",
    "        dict[items[x]] = np.empty((int(count[x]), data.shape[1]), dtype=\"|S32\")\n",
    "        pos = 0\n",
    "        for y in range(data.shape[0]):\n",
    "            if data[y, col] == items[x]:\n",
    "                dict[items[x]][pos] = data[y]\n",
    "                pos += 1       \n",
    "        if delete:\n",
    "            dict[items[x]] = np.delete(dict[items[x]], col, 1)\n",
    "        \n",
    "    return items, dict"
   ]
  },
  {
   "cell_type": "code",
   "execution_count": 5,
   "id": "78c6210c-7c17-4071-89d6-a1b3cdf61b60",
   "metadata": {},
   "outputs": [],
   "source": [
    "def entropy(S):\n",
    "    items = np.unique(S)\n",
    "\n",
    "    if items.size == 1:\n",
    "        return 0\n",
    "    \n",
    "    counts = np.zeros((items.shape[0], 1))\n",
    "    sums = 0\n",
    "    \n",
    "    for x in range(items.shape[0]):\n",
    "        counts[x] = sum(S == items[x]) / (S.size * 1.0)\n",
    "\n",
    "    for count in counts:\n",
    "        sums += -1 * count * math.log(count, 2)\n",
    "    return sums"
   ]
  },
  {
   "cell_type": "code",
   "execution_count": 6,
   "id": "c4cbd033-521e-4eae-a11e-354aafe71b6c",
   "metadata": {},
   "outputs": [],
   "source": [
    "def gain_ratio(data, col):\n",
    "    items, dict = subtables(data, col, delete=False) \n",
    "                \n",
    "    total_size = data.shape[0]\n",
    "    entropies = np.zeros((items.shape[0], 1))\n",
    "    intrinsic = np.zeros((items.shape[0], 1))\n",
    "    \n",
    "    for x in range(items.shape[0]):\n",
    "        ratio = dict[items[x]].shape[0]/(total_size * 1.0)\n",
    "        entropies[x] = ratio * entropy(dict[items[x]][:, -1])\n",
    "        intrinsic[x] = ratio * math.log(ratio, 2)\n",
    "        \n",
    "    total_entropy = entropy(data[:, -1])\n",
    "    iv = -1 * sum(intrinsic)\n",
    "    \n",
    "    for x in range(entropies.shape[0]):\n",
    "        total_entropy -= entropies[x]\n",
    "        \n",
    "    return total_entropy / iv"
   ]
  },
  {
   "cell_type": "code",
   "execution_count": 7,
   "id": "e11f0c40-6a36-471d-9732-fb0d393ae2f5",
   "metadata": {},
   "outputs": [],
   "source": [
    "def create_node(data, metadata):\n",
    "    if (np.unique(data[:, -1])).shape[0] == 1:\n",
    "        node = Node(\"\")\n",
    "        node.answer = np.unique(data[:, -1])[0]\n",
    "        return node\n",
    "        \n",
    "    gains = np.zeros((data.shape[1] - 1, 1))\n",
    "    \n",
    "    for col in range(data.shape[1] - 1):\n",
    "        gains[col] = gain_ratio(data, col)\n",
    "        \n",
    "    split = np.argmax(gains)\n",
    "    \n",
    "    node = Node(metadata[split])    \n",
    "    metadata = np.delete(metadata, split, 0)    \n",
    "    \n",
    "    items, dict = subtables(data, split, delete=True)\n",
    "    \n",
    "    for x in range(items.shape[0]):\n",
    "        child = create_node(dict[items[x]], metadata)\n",
    "        node.children.append((items[x], child))\n",
    "    \n",
    "    return node"
   ]
  },
  {
   "cell_type": "code",
   "execution_count": 8,
   "id": "2ee376c0-cb60-48e9-90c4-922140715080",
   "metadata": {},
   "outputs": [],
   "source": [
    "def empty(size):\n",
    "    s = \"\"\n",
    "    for x in range(size):\n",
    "        s += \"   \"\n",
    "    return s\n",
    "\n",
    "def print_tree(node, level):\n",
    "    if node.answer != \"\":\n",
    "        print(empty(level), node.answer)\n",
    "        return\n",
    "    print(empty(level), node.attribute)\n",
    "    for value, n in node.children:\n",
    "        print(empty(level + 1), value)\n",
    "        print_tree(n, level + 2)"
   ]
  },
  {
   "cell_type": "code",
   "execution_count": 11,
   "id": "3e311bd8-fa6a-4887-9b7c-1b7528759c36",
   "metadata": {},
   "outputs": [
    {
     "name": "stdout",
     "output_type": "stream",
     "text": [
      " Outlook\n",
      "    Overcast\n",
      "       b'Yes'\n",
      "    Rainy\n",
      "       Windy\n",
      "          b'False'\n",
      "             b'Yes'\n",
      "          b'True'\n",
      "             b'No'\n",
      "    Sunny\n",
      "       Humidity\n",
      "          b'High'\n",
      "             b'No'\n",
      "          b'Normal'\n",
      "             b'Yes'\n"
     ]
    },
    {
     "name": "stderr",
     "output_type": "stream",
     "text": [
      "C:\\Users\\MADHANLAL\\AppData\\Local\\Temp\\ipykernel_6788\\3573695135.py:12: DeprecationWarning: Conversion of an array with ndim > 0 to a scalar is deprecated, and will error in future. Ensure you extract a single element from your array before performing this operation. (Deprecated NumPy 1.25.)\n",
      "  dict[items[x]] = np.empty((int(count[x]), data.shape[1]), dtype=\"|S32\")\n",
      "C:\\Users\\MADHANLAL\\AppData\\Local\\Temp\\ipykernel_6788\\4113962989.py:14: DeprecationWarning: Conversion of an array with ndim > 0 to a scalar is deprecated, and will error in future. Ensure you extract a single element from your array before performing this operation. (Deprecated NumPy 1.25.)\n",
      "  sums += -1 * count * math.log(count, 2)\n"
     ]
    }
   ],
   "source": [
    "metadata, traindata = read_data(\"tennisdata.csv\")\n",
    "data = np.array(traindata)\n",
    "node = create_node(data, metadata)\n",
    "print_tree(node, 0)"
   ]
  },
  {
   "cell_type": "code",
   "execution_count": null,
   "id": "1aec239f-623d-4396-8800-66f917ffda87",
   "metadata": {},
   "outputs": [],
   "source": []
  }
 ],
 "metadata": {
  "kernelspec": {
   "display_name": "Python 3 (ipykernel)",
   "language": "python",
   "name": "python3"
  },
  "language_info": {
   "codemirror_mode": {
    "name": "ipython",
    "version": 3
   },
   "file_extension": ".py",
   "mimetype": "text/x-python",
   "name": "python",
   "nbconvert_exporter": "python",
   "pygments_lexer": "ipython3",
   "version": "3.12.4"
  }
 },
 "nbformat": 4,
 "nbformat_minor": 5
}
